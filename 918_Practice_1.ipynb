{
  "nbformat": 4,
  "nbformat_minor": 0,
  "metadata": {
    "colab": {
      "provenance": []
    },
    "kernelspec": {
      "name": "python3",
      "display_name": "Python 3"
    },
    "language_info": {
      "name": "python"
    }
  },
  "cells": [
    {
      "cell_type": "markdown",
      "source": [
        "# Program to import, load and view the dataset\n",
        "\n",
        "Step 1 - Importing the dataset:"
      ],
      "metadata": {
        "id": "e-J7DG5rL481"
      }
    },
    {
      "cell_type": "code",
      "source": [
        "import pandas as pd\n",
        "\n",
        "df = pd.read_csv(\"/mnt/data/Cars Datasets 2025.csv\")"
      ],
      "metadata": {
        "id": "I1V4fDWjMzWa"
      },
      "execution_count": null,
      "outputs": []
    },
    {
      "cell_type": "markdown",
      "source": [
        "Steo 2 - Load and view the dataset."
      ],
      "metadata": {
        "id": "xiFgn8AEMDvu"
      }
    },
    {
      "cell_type": "code",
      "source": [
        "import pandas as pd\n",
        "\n",
        "df = pd.read_csv(\"/mnt/data/Cars Datasets 2025.csv\")\n",
        "print(df.head())"
      ],
      "metadata": {
        "id": "h7pHB-F5M0Xy"
      },
      "execution_count": null,
      "outputs": []
    }
  ]
}